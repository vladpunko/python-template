{
 "cells": [
  {
   "cell_type": "code",
   "execution_count": 1,
   "id": "41674a3d-8f14-40d3-8028-39c6e02d52b4",
   "metadata": {},
   "outputs": [],
   "source": [
    "import torch"
   ]
  },
  {
   "cell_type": "code",
   "execution_count": 2,
   "id": "3cd23bb6-e6fe-432e-bd94-af83757496d1",
   "metadata": {},
   "outputs": [
    {
     "data": {
      "text/plain": [
       "'2.6.0'"
      ]
     },
     "execution_count": 2,
     "metadata": {},
     "output_type": "execute_result"
    }
   ],
   "source": [
    "torch.__version__"
   ]
  },
  {
   "cell_type": "code",
   "execution_count": 3,
   "id": "3bbf8d84-b355-4036-81b7-b24547ed592a",
   "metadata": {},
   "outputs": [],
   "source": [
    "from python_template import api"
   ]
  },
  {
   "cell_type": "code",
   "execution_count": 4,
   "id": "b567efd1-2ccc-48ae-b265-ee234c3d1207",
   "metadata": {},
   "outputs": [
    {
     "name": "stderr",
     "output_type": "stream",
     "text": [
      "\u001b[32m2025-02-09 01:53:30.937\u001b[0m | \u001b[34m\u001b[1mDEBUG   \u001b[0m | \u001b[36mpython_template.api\u001b[0m:\u001b[36mreduce\u001b[0m:\u001b[36m46\u001b[0m - \u001b[34m\u001b[1m{'sequence': range(0, 10)}\u001b[0m\n"
     ]
    },
    {
     "data": {
      "text/plain": [
       "45"
      ]
     },
     "execution_count": 4,
     "metadata": {},
     "output_type": "execute_result"
    }
   ],
   "source": [
    "api.reduce(range(10))"
   ]
  },
  {
   "cell_type": "code",
   "execution_count": 5,
   "id": "9d7a5ef4-fee6-4aec-b5db-e5f72ea53de7",
   "metadata": {},
   "outputs": [
    {
     "name": "stderr",
     "output_type": "stream",
     "text": [
      "\u001b[32m2025-02-09 01:53:45.341\u001b[0m | \u001b[34m\u001b[1mDEBUG   \u001b[0m | \u001b[36mpython_template.api\u001b[0m:\u001b[36mreduce\u001b[0m:\u001b[36m46\u001b[0m - \u001b[34m\u001b[1m{'sequence': (1, 2, 3)}\u001b[0m\n"
     ]
    },
    {
     "data": {
      "text/plain": [
       "6"
      ]
     },
     "execution_count": 5,
     "metadata": {},
     "output_type": "execute_result"
    }
   ],
   "source": [
    "api.reduce((1, 2, 3))"
   ]
  },
  {
   "cell_type": "code",
   "execution_count": 6,
   "id": "93570813-da77-4931-9b3f-dc243a995910",
   "metadata": {},
   "outputs": [
    {
     "name": "stderr",
     "output_type": "stream",
     "text": [
      "\u001b[32m2025-02-09 01:53:57.330\u001b[0m | \u001b[34m\u001b[1mDEBUG   \u001b[0m | \u001b[36mpython_template.api\u001b[0m:\u001b[36mreduce\u001b[0m:\u001b[36m46\u001b[0m - \u001b[34m\u001b[1m{'sequence': {1: 1, 2: 2, 3: 3}}\u001b[0m\n"
     ]
    },
    {
     "data": {
      "text/plain": [
       "6"
      ]
     },
     "execution_count": 6,
     "metadata": {},
     "output_type": "execute_result"
    }
   ],
   "source": [
    "api.reduce({1:1, 2:2, 3:3})"
   ]
  }
 ],
 "metadata": {
  "kernelspec": {
   "display_name": "Python 3 (ipykernel)",
   "language": "python",
   "name": "python3"
  },
  "language_info": {
   "codemirror_mode": {
    "name": "ipython",
    "version": 3
   },
   "file_extension": ".py",
   "mimetype": "text/x-python",
   "name": "python",
   "nbconvert_exporter": "python",
   "pygments_lexer": "ipython3",
   "version": "3.10.13"
  }
 },
 "nbformat": 4,
 "nbformat_minor": 5
}
